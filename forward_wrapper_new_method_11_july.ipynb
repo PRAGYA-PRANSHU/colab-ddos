{
  "nbformat": 4,
  "nbformat_minor": 0,
  "metadata": {
    "colab": {
      "name": "forward wrapper new method 11 july.ipynb",
      "provenance": [],
      "collapsed_sections": [],
      "authorship_tag": "ABX9TyNREsRS1nE0mkKMwCqMka4W",
      "include_colab_link": true
    },
    "kernelspec": {
      "name": "python3",
      "display_name": "Python 3"
    },
    "language_info": {
      "name": "python"
    },
    "accelerator": "TPU"
  },
  "cells": [
    {
      "cell_type": "markdown",
      "metadata": {
        "id": "view-in-github",
        "colab_type": "text"
      },
      "source": [
        "<a href=\"https://colab.research.google.com/github/PRAGYA-PRANSHU/colab-ddos/blob/main/forward_wrapper_new_method_11_july.ipynb\" target=\"_parent\"><img src=\"https://colab.research.google.com/assets/colab-badge.svg\" alt=\"Open In Colab\"/></a>"
      ]
    },
    {
      "cell_type": "code",
      "metadata": {
        "id": "AyAJviIVfLjF"
      },
      "source": [
        "import numpy as np # linear algebra\n",
        "import pandas as pd # data processing, CSV file I/O (e.g. pd.read_csv)\n",
        "from tqdm import tqdm\n",
        "from IPython.display import display\n",
        "import gc\n",
        "import seaborn as sns\n",
        "import matplotlib.pyplot as plt\n",
        "from sklearn.decomposition import PCA\n",
        "from sklearn.preprocessing import LabelEncoder\n",
        "from sklearn.preprocessing import OrdinalEncoder\n",
        "pd.set_option('display.max_columns', None)\n",
        "pd.set_option('display.max_rows', None)"
      ],
      "execution_count": 17,
      "outputs": []
    },
    {
      "cell_type": "code",
      "metadata": {
        "id": "mzu4mNdvflfw"
      },
      "source": [
        "dataset = pd.read_csv('/content/DrDoS_NetBIOS_new_0.csv')\n",
        "#Currently I will be dealling with numerical columns only.\n",
        "colType = ['int64','float64']\n",
        "#Select the columns which are either int64 or float64.\n",
        "numCols=list(dataset.select_dtypes(include=colType).columns)\n",
        "#Assigning numerical columns from df to data variable. We can use the same variable as well.\n",
        "data=dataset[numCols]"
      ],
      "execution_count": 18,
      "outputs": []
    },
    {
      "cell_type": "code",
      "metadata": {
        "colab": {
          "base_uri": "https://localhost:8080/"
        },
        "id": "Wb-fOHHqgh_C",
        "outputId": "f4387cd7-1b84-41a7-8237-278a43a12b13"
      },
      "source": [
        "dataset.shape"
      ],
      "execution_count": 19,
      "outputs": [
        {
          "output_type": "execute_result",
          "data": {
            "text/plain": [
              "(100000, 78)"
            ]
          },
          "metadata": {
            "tags": []
          },
          "execution_count": 19
        }
      ]
    },
    {
      "cell_type": "code",
      "metadata": {
        "id": "2yEWMSsehpR5"
      },
      "source": [
        "X = dataset.iloc[:, :-1].values\n",
        "y = dataset.iloc[:, -1].values"
      ],
      "execution_count": 20,
      "outputs": []
    },
    {
      "cell_type": "code",
      "metadata": {
        "id": "sg5iIHWKhrYA"
      },
      "source": [
        "from sklearn.impute import SimpleImputer\n",
        "imputer = SimpleImputer(missing_values=np.nan, strategy='mean')\n",
        "imputer.fit(X[:, 0:78])\n",
        "X[:, 0:78] = imputer.transform(X[:, 0:78])"
      ],
      "execution_count": 21,
      "outputs": []
    },
    {
      "cell_type": "code",
      "metadata": {
        "id": "TiVTezk7hs_w"
      },
      "source": [
        "from sklearn.preprocessing import LabelEncoder\n",
        "le = LabelEncoder()\n",
        "y = le.fit_transform(y)"
      ],
      "execution_count": 22,
      "outputs": []
    },
    {
      "cell_type": "code",
      "metadata": {
        "id": "kHXjwWtchu0I"
      },
      "source": [
        "from sklearn.model_selection import train_test_split\n",
        "X_train, X_test, y_train, y_test = train_test_split(X, y, test_size = 0.2, random_state = 1)"
      ],
      "execution_count": 23,
      "outputs": []
    },
    {
      "cell_type": "code",
      "metadata": {
        "id": "JfXhOvVRhx1g"
      },
      "source": [
        "from sklearn.preprocessing import StandardScaler\n",
        "sc = StandardScaler()\n",
        "X_train[:, 0:78] = sc.fit_transform(X_train[:, 0:78])\n",
        "X_test[:, 0:78] = sc.transform(X_test[:, 0:78])"
      ],
      "execution_count": 24,
      "outputs": []
    },
    {
      "cell_type": "code",
      "metadata": {
        "colab": {
          "base_uri": "https://localhost:8080/"
        },
        "id": "rBxbyyvth1xY",
        "outputId": "be2b9f1a-529f-4204-c0de-626f84e632b4"
      },
      "source": [
        "X_train.shape,X_test.shape"
      ],
      "execution_count": 25,
      "outputs": [
        {
          "output_type": "execute_result",
          "data": {
            "text/plain": [
              "((80000, 77), (20000, 77))"
            ]
          },
          "metadata": {
            "tags": []
          },
          "execution_count": 25
        }
      ]
    },
    {
      "cell_type": "code",
      "metadata": {
        "colab": {
          "base_uri": "https://localhost:8080/"
        },
        "id": "uw8UZ-ioiVCB",
        "outputId": "99c149ee-ffec-44da-9d55-794eb0e72992"
      },
      "source": [
        "from mlxtend.feature_selection import SequentialFeatureSelector as sfs\n",
        "#I am going to use RandomForestRegressor algoritham as an estimator. Your can select other regression alogritham as well.\n",
        "from sklearn.ensemble import RandomForestRegressor\n",
        "#k_features=10 (It will get top 10 features best suited for prediction)\n",
        "#forward=True (Forward feature selection model)\n",
        "#verbose=2 (It will show details output as shown below.)\n",
        "#cv=5 (Kfold cross valiation: it will split the training set in 5 set and 4 will be using for training the model and 1 will using as validation)\n",
        "#n_jobs=-1 (Number of cores it will use for execution.-1 means it will use all the cores of CPU for execution.)\n",
        "#scoring='r2'(R-squared is a statistical measure of how close the data are to the fitted regression line)\n",
        "model=sfs(RandomForestRegressor(),k_features=10,forward=True,verbose=2,cv=5,n_jobs=-1,scoring='r2')\n",
        "model.fit(X_train,y_train)"
      ],
      "execution_count": 26,
      "outputs": [
        {
          "output_type": "stream",
          "text": [
            "[Parallel(n_jobs=-1)]: Using backend LokyBackend with 2 concurrent workers.\n",
            "[Parallel(n_jobs=-1)]: Done  37 tasks      | elapsed:  2.0min\n",
            "[Parallel(n_jobs=-1)]: Done  77 out of  77 | elapsed:  4.0min finished\n",
            "\n",
            "[2021-07-11 17:22:50] Features: 1/10 -- score: 0.8462759918022702[Parallel(n_jobs=-1)]: Using backend LokyBackend with 2 concurrent workers.\n",
            "[Parallel(n_jobs=-1)]: Done  37 tasks      | elapsed:  2.0min\n",
            "[Parallel(n_jobs=-1)]: Done  76 out of  76 | elapsed:  4.2min finished\n",
            "\n",
            "[2021-07-11 17:27:04] Features: 2/10 -- score: 0.9719454529060142[Parallel(n_jobs=-1)]: Using backend LokyBackend with 2 concurrent workers.\n",
            "[Parallel(n_jobs=-1)]: Done  37 tasks      | elapsed:  2.1min\n",
            "[Parallel(n_jobs=-1)]: Done  75 out of  75 | elapsed:  4.3min finished\n",
            "\n",
            "[2021-07-11 17:31:25] Features: 3/10 -- score: 0.9799950810339346[Parallel(n_jobs=-1)]: Using backend LokyBackend with 2 concurrent workers.\n",
            "[Parallel(n_jobs=-1)]: Done  37 tasks      | elapsed:  2.4min\n",
            "[Parallel(n_jobs=-1)]: Done  74 out of  74 | elapsed:  4.5min finished\n",
            "\n",
            "[2021-07-11 17:35:56] Features: 4/10 -- score: 0.981705968116674[Parallel(n_jobs=-1)]: Using backend LokyBackend with 2 concurrent workers.\n",
            "[Parallel(n_jobs=-1)]: Done  37 tasks      | elapsed:  2.5min\n",
            "[Parallel(n_jobs=-1)]: Done  73 out of  73 | elapsed:  4.6min finished\n",
            "\n",
            "[2021-07-11 17:40:35] Features: 5/10 -- score: 0.9832097015807237[Parallel(n_jobs=-1)]: Using backend LokyBackend with 2 concurrent workers.\n",
            "[Parallel(n_jobs=-1)]: Done  37 tasks      | elapsed:  2.5min\n",
            "[Parallel(n_jobs=-1)]: Done  72 out of  72 | elapsed:  4.8min finished\n",
            "\n",
            "[2021-07-11 17:45:21] Features: 6/10 -- score: 0.9835050675863336[Parallel(n_jobs=-1)]: Using backend LokyBackend with 2 concurrent workers.\n",
            "[Parallel(n_jobs=-1)]: Done  37 tasks      | elapsed:  2.6min\n",
            "[Parallel(n_jobs=-1)]: Done  71 out of  71 | elapsed:  4.9min finished\n",
            "\n",
            "[2021-07-11 17:50:16] Features: 7/10 -- score: 0.9837726401198934[Parallel(n_jobs=-1)]: Using backend LokyBackend with 2 concurrent workers.\n",
            "[Parallel(n_jobs=-1)]: Done  37 tasks      | elapsed:  2.8min\n",
            "[Parallel(n_jobs=-1)]: Done  70 out of  70 | elapsed:  5.1min finished\n",
            "\n",
            "[2021-07-11 17:55:20] Features: 8/10 -- score: 0.9844433778685705[Parallel(n_jobs=-1)]: Using backend LokyBackend with 2 concurrent workers.\n",
            "[Parallel(n_jobs=-1)]: Done  37 tasks      | elapsed:  2.9min\n",
            "[Parallel(n_jobs=-1)]: Done  69 out of  69 | elapsed:  5.3min finished\n",
            "\n",
            "[2021-07-11 18:00:37] Features: 9/10 -- score: 0.9856727404750136[Parallel(n_jobs=-1)]: Using backend LokyBackend with 2 concurrent workers.\n",
            "[Parallel(n_jobs=-1)]: Done  37 tasks      | elapsed:  3.0min\n",
            "[Parallel(n_jobs=-1)]: Done  68 out of  68 | elapsed:  5.5min finished\n",
            "\n",
            "[2021-07-11 18:06:07] Features: 10/10 -- score: 0.9864970941534887"
          ],
          "name": "stderr"
        },
        {
          "output_type": "execute_result",
          "data": {
            "text/plain": [
              "SequentialFeatureSelector(clone_estimator=True, cv=5,\n",
              "                          estimator=RandomForestRegressor(bootstrap=True,\n",
              "                                                          ccp_alpha=0.0,\n",
              "                                                          criterion='mse',\n",
              "                                                          max_depth=None,\n",
              "                                                          max_features='auto',\n",
              "                                                          max_leaf_nodes=None,\n",
              "                                                          max_samples=None,\n",
              "                                                          min_impurity_decrease=0.0,\n",
              "                                                          min_impurity_split=None,\n",
              "                                                          min_samples_leaf=1,\n",
              "                                                          min_samples_split=2,\n",
              "                                                          min_weight_fraction_leaf=0.0,\n",
              "                                                          n_estimators=100,\n",
              "                                                          n_jobs=None,\n",
              "                                                          oob_score=False,\n",
              "                                                          random_state=None,\n",
              "                                                          verbose=0,\n",
              "                                                          warm_start=False),\n",
              "                          floating=False, forward=True, k_features=10,\n",
              "                          n_jobs=-1, pre_dispatch='2*n_jobs', scoring='r2',\n",
              "                          verbose=2)"
            ]
          },
          "metadata": {
            "tags": []
          },
          "execution_count": 26
        }
      ]
    },
    {
      "cell_type": "code",
      "metadata": {
        "colab": {
          "base_uri": "https://localhost:8080/"
        },
        "id": "5XUS0UyIiYsU",
        "outputId": "7653e59a-e053-4374-e705-9944c2a23d04"
      },
      "source": [
        "\n",
        "\n",
        "#Get the selected feature index.\n",
        "model.k_feature_idx_\n",
        "\n"
      ],
      "execution_count": 27,
      "outputs": [
        {
          "output_type": "execute_result",
          "data": {
            "text/plain": [
              "(2, 9, 10, 11, 34, 37, 44, 47, 65, 74)"
            ]
          },
          "metadata": {
            "tags": []
          },
          "execution_count": 27
        }
      ]
    },
    {
      "cell_type": "code",
      "metadata": {
        "colab": {
          "base_uri": "https://localhost:8080/"
        },
        "id": "-I7xSJhwib2E",
        "outputId": "0aa817b4-bf09-4a67-90b4-e3f57164f1fd"
      },
      "source": [
        "#Get the column name for the selected feature.\n",
        "model.k_feature_names_"
      ],
      "execution_count": 28,
      "outputs": [
        {
          "output_type": "execute_result",
          "data": {
            "text/plain": [
              "('2', '9', '10', '11', '34', '37', '44', '47', '65', '74')"
            ]
          },
          "metadata": {
            "tags": []
          },
          "execution_count": 28
        }
      ]
    }
  ]
}