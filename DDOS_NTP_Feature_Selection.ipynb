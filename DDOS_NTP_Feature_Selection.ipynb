{
  "nbformat": 4,
  "nbformat_minor": 0,
  "metadata": {
    "colab": {
      "name": "DDOS-NTP-Feature-Selection.ipynb",
      "provenance": [],
      "authorship_tag": "ABX9TyPtab4oVAQJHvMrB294+1Fn",
      "include_colab_link": true
    },
    "kernelspec": {
      "display_name": "Python 3",
      "name": "python3"
    },
    "language_info": {
      "name": "python"
    }
  },
  "cells": [
    {
      "cell_type": "markdown",
      "metadata": {
        "id": "view-in-github",
        "colab_type": "text"
      },
      "source": [
        "<a href=\"https://colab.research.google.com/github/PRAGYA-PRANSHU/colab-ddos/blob/main/DDOS_NTP_Feature_Selection.ipynb\" target=\"_parent\"><img src=\"https://colab.research.google.com/assets/colab-badge.svg\" alt=\"Open In Colab\"/></a>"
      ]
    },
    {
      "cell_type": "code",
      "metadata": {
        "id": "-efPIm76ga-T"
      },
      "source": [
        "import numpy as np\n",
        "import matplotlib.pyplot as plt\n",
        "import pandas as pd\n",
        "pd.set_option('display.max_rows',None)"
      ],
      "execution_count": 42,
      "outputs": []
    },
    {
      "cell_type": "code",
      "metadata": {
        "id": "Mf8x9y2ji4Wd"
      },
      "source": [
        "dataset = pd.read_csv('NetBIOS_0.csv')\n",
        "X = dataset.iloc[:, :-1].values\n",
        "y = dataset.iloc[:, -1].values"
      ],
      "execution_count": 43,
      "outputs": []
    },
    {
      "cell_type": "code",
      "metadata": {
        "id": "tZtDQMetgCAb",
        "colab": {
          "base_uri": "https://localhost:8080/"
        },
        "cellView": "code",
        "outputId": "a0c5fd31-42b6-4ffe-9581-aa93b9fb09f9"
      },
      "source": [
        "\n",
        "print(dataset.nunique())"
      ],
      "execution_count": 44,
      "outputs": [
        {
          "output_type": "stream",
          "text": [
            "Unnamed: 0                      100000\n",
            "Flow ID                          99998\n",
            " Source IP                           8\n",
            " Source Port                       520\n",
            " Destination IP                      8\n",
            " Destination Port                50088\n",
            " Protocol                            3\n",
            " Timestamp                      100000\n",
            " Flow Duration                     304\n",
            " Total Fwd Packets                  10\n",
            " Total Backward Packets              6\n",
            "Total Length of Fwd Packets         49\n",
            " Total Length of Bwd Packets         4\n",
            " Fwd Packet Length Max              29\n",
            " Fwd Packet Length Min              27\n",
            " Fwd Packet Length Mean             35\n",
            " Fwd Packet Length Std              12\n",
            "Bwd Packet Length Max                3\n",
            " Bwd Packet Length Min               3\n",
            " Bwd Packet Length Mean              3\n",
            " Bwd Packet Length Std               1\n",
            "Flow Bytes/s                       474\n",
            " Flow Packets/s                    310\n",
            " Flow IAT Mean                     316\n",
            " Flow IAT Std                      236\n",
            " Flow IAT Max                      298\n",
            " Flow IAT Min                       86\n",
            "Fwd IAT Total                      302\n",
            " Fwd IAT Mean                      314\n",
            " Fwd IAT Std                       234\n",
            " Fwd IAT Max                       296\n",
            " Fwd IAT Min                        86\n",
            "Bwd IAT Total                        7\n",
            " Bwd IAT Mean                        8\n",
            " Bwd IAT Std                         6\n",
            " Bwd IAT Max                         7\n",
            " Bwd IAT Min                         3\n",
            "Fwd PSH Flags                        2\n",
            " Bwd PSH Flags                       1\n",
            " Fwd URG Flags                       1\n",
            " Bwd URG Flags                       1\n",
            " Fwd Header Length                  28\n",
            " Bwd Header Length                   6\n",
            "Fwd Packets/s                      310\n",
            " Bwd Packets/s                      10\n",
            " Min Packet Length                  27\n",
            " Max Packet Length                  29\n",
            " Packet Length Mean                 47\n",
            " Packet Length Std                  14\n",
            " Packet Length Variance             14\n",
            "FIN Flag Count                       1\n",
            " SYN Flag Count                      1\n",
            " RST Flag Count                      2\n",
            " PSH Flag Count                      1\n",
            " ACK Flag Count                      2\n",
            " URG Flag Count                      2\n",
            " CWE Flag Count                      2\n",
            " ECE Flag Count                      1\n",
            " Down/Up Ratio                       4\n",
            " Average Packet Size                57\n",
            " Avg Fwd Segment Size               35\n",
            " Avg Bwd Segment Size                3\n",
            " Fwd Header Length.1                28\n",
            "Fwd Avg Bytes/Bulk                   1\n",
            " Fwd Avg Packets/Bulk                1\n",
            " Fwd Avg Bulk Rate                   1\n",
            " Bwd Avg Bytes/Bulk                  1\n",
            " Bwd Avg Packets/Bulk                1\n",
            "Bwd Avg Bulk Rate                    1\n",
            "Subflow Fwd Packets                 10\n",
            " Subflow Fwd Bytes                  49\n",
            " Subflow Bwd Packets                 6\n",
            " Subflow Bwd Bytes                   4\n",
            "Init_Win_bytes_forward               8\n",
            " Init_Win_bytes_backward             8\n",
            " act_data_pkt_fwd                    7\n",
            " min_seg_size_forward                7\n",
            "Active Mean                         20\n",
            " Active Std                          7\n",
            " Active Max                         19\n",
            " Active Min                         19\n",
            "Idle Mean                          181\n",
            " Idle Std                            8\n",
            " Idle Max                          181\n",
            " Idle Min                          181\n",
            "SimillarHTTP                         1\n",
            " Inbound                             2\n",
            " Label                               2\n",
            "dtype: int64\n"
          ],
          "name": "stdout"
        }
      ]
    },
    {
      "cell_type": "code",
      "metadata": {
        "id": "W_KSa0RojgFB"
      },
      "source": [
        "from sklearn.model_selection import train_test_split\n",
        "X_train, X_test, y_train, y_test = train_test_split(X, y, test_size = 0.2, random_state = 0)"
      ],
      "execution_count": 45,
      "outputs": []
    }
  ]
}