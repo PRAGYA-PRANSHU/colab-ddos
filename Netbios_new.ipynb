{
  "nbformat": 4,
  "nbformat_minor": 0,
  "metadata": {
    "colab": {
      "name": "Netbios-new.ipynb",
      "provenance": [],
      "collapsed_sections": [],
      "mount_file_id": "1AiK8Y0F7AwO3nqvtUMe6LWbC0I46NCe-",
      "authorship_tag": "ABX9TyNCa6tGrdKd/+J+xy6KZpq/",
      "include_colab_link": true
    },
    "kernelspec": {
      "name": "python3",
      "display_name": "Python 3"
    },
    "language_info": {
      "name": "python"
    },
    "accelerator": "TPU"
  },
  "cells": [
    {
      "cell_type": "markdown",
      "metadata": {
        "id": "view-in-github",
        "colab_type": "text"
      },
      "source": [
        "<a href=\"https://colab.research.google.com/github/PRAGYA-PRANSHU/colab-ddos/blob/main/Netbios_new.ipynb\" target=\"_parent\"><img src=\"https://colab.research.google.com/assets/colab-badge.svg\" alt=\"Open In Colab\"/></a>"
      ]
    },
    {
      "cell_type": "code",
      "metadata": {
        "id": "vlwTkExbDh4r"
      },
      "source": [
        "import numpy as np # linear algebra\n",
        "import pandas as pd # data processing, CSV file I/O (e.g. pd.read_csv)\n",
        "from tqdm import tqdm\n",
        "from IPython.display import display\n",
        "import gc\n",
        "import seaborn as sns\n",
        "import matplotlib.pyplot as plt\n",
        "from sklearn.decomposition import PCA\n",
        "from sklearn.preprocessing import LabelEncoder\n",
        "from sklearn.preprocessing import OrdinalEncoder\n",
        "pd.set_option('display.max_columns', None)\n",
        "pd.set_option('display.max_rows', None)"
      ],
      "execution_count": 13,
      "outputs": []
    },
    {
      "cell_type": "code",
      "metadata": {
        "id": "-VZYRgvgRm3V"
      },
      "source": [
        "dtypes = {\n",
        "    'Flow Duration': 'uint32',\n",
        "    'Total Fwd Packets': 'uint32',\n",
        "    'Total Backward Packets': 'uint32',\n",
        "    'Total Length of Fwd Pkts': 'float32',\n",
        "    'Total Length of Bwd Pkts': 'float32',\n",
        "    'Fwd Packet Length Max': 'float32',\n",
        "    'Fwd Packet Length Min': 'float32',\n",
        "    'Fwd Packet Length Mean': 'float32',\n",
        "    'Fwd Packet Length Std': 'float32',\n",
        "    'Bwd Packet Length Max': 'float32',\n",
        "    'Bwd Packet Length Min': 'float32',\n",
        "    'Bwd Packet Length Mean': 'float32',\n",
        "    'Bwd Packet Length Std': 'float32',\n",
        "    'Flow Bytes/s': 'float32',\n",
        "    'Flow Packets/s': 'float32',\n",
        "    'Flow IAT Mean': 'float32',\n",
        "    'Flow IAT Std': 'float32',\n",
        "    'Flow IAT Max': 'float32',\n",
        "    'Flow IAT Min': 'float32',\n",
        "    'Fwd IAT Total': 'float32',\n",
        "    'Fwd IAT Mean': 'float32',\n",
        "    'Fwd IAT Std': 'float32',\n",
        "    'Fwd IAT Max': 'float32',\n",
        "    'Fwd IAT Min': 'float32',\n",
        "    'Bwd IAT Total': 'float32',\n",
        "    'Bwd IAT Mean': 'float32',\n",
        "    'Bwd IAT Std': 'float32',\n",
        "    'Bwd IAT Max': 'float32',\n",
        "    'Bwd IAT Min': 'float32',\n",
        "    'Fwd PSH Flags': 'category',\n",
        "    'Bwd PSH Flags': 'category',\n",
        "    'Fwd URG Flags': 'category',\n",
        "    'Bwd URG Flags': 'category',\n",
        "    'Fwd Header Length': 'uint32',\n",
        "    'Bwd Header Length': 'uint32',\n",
        "    'Fwd Packets/s': 'float32',\n",
        "    'Bwd Packets/s': 'float32',\n",
        "    'Min Packet Length': 'float32',\n",
        "    'Max Packet Length': 'float32',\n",
        "    'Packet Length Mean': 'float32',\n",
        "    'Packet Length Std': 'float32',\n",
        "    'Packet Length Variance': 'float32',\n",
        "    'FIN Flag Count': 'category',\n",
        "    'SYN Flag Count': 'category',\n",
        "    'RST Flag Count': 'category',\n",
        "    'PSH Flag Count': 'category',\n",
        "    'ACK Flag Count': 'category',\n",
        "    'URG Flag Count': 'category',\n",
        "    'CWE Flag Count': 'category',\n",
        "    'ECE Flag Count': 'category',\n",
        "    'Down/Up Ratio': 'float32',\n",
        "    'Average Packet Size': 'float32',\n",
        "    'Avg Fwd Segment Size': 'float32',\n",
        "    'Avg Bwd Segment Size': 'float32',\n",
        "    'Fwd Header Length.1':'float32',\n",
        "    'Fwd Avg Bytes/Bulk': 'uint32',\n",
        "    'Fwd Avg Bytes/Bulk': 'uint32',\n",
        "    'Fwd Avg Bulk Rate': 'uint32',\n",
        "    'Bwd Avg Bytes/Bulk': 'uint32',\n",
        "    'Bwd Avg Packets/Bulk': 'uint32',\n",
        "    'Bwd Avg Bulk Rate': 'uint32',\n",
        "    'Subflow Fwd Packets': 'uint32',\n",
        "    'Subflow Fwd Bytes': 'uint32',\n",
        "    'Subflow Bwd Packets': 'uint32',\n",
        "    'Subflow Bwd Bytes': 'uint32',\n",
        "    'Init_Win_bytes_forward': 'uint32',\n",
        "    'Init_Win_bytes_backward': 'uint32',\n",
        "    'act_data_pkt_fwd': 'uint32',\n",
        "    'min_seg_size_forward': 'uint32',\n",
        "    'Active Mean': 'float32',\n",
        "    'Active Std': 'float32',\n",
        "    'Active Max': 'float32',\n",
        "    'Active Min': 'float32',\n",
        "    'Idle Mean': 'float32',\n",
        "    'Idle Std': 'float32',\n",
        "    'Idle Max': 'float32',\n",
        "    'Idle Min': 'float32',\n",
        "    'Label': 'category'\n",
        "}"
      ],
      "execution_count": 14,
      "outputs": []
    },
    {
      "cell_type": "code",
      "metadata": {
        "id": "lFraEQijc9s8",
        "colab": {
          "base_uri": "https://localhost:8080/"
        },
        "outputId": "08cbdc44-4f15-40f0-a23e-8ef7b13c1739"
      },
      "source": [
        "dataset = pd.read_csv(\n",
        "    '/content/drive/MyDrive/DrDoS_NetBIOS_new_0.csv',\n",
        "      dtype=dtypes,\n",
        "    engine='c',\n",
        "    low_memory=True,\n",
        ")\n",
        "del dtypes\n",
        "gc.collect()\n"
      ],
      "execution_count": 15,
      "outputs": [
        {
          "output_type": "execute_result",
          "data": {
            "text/plain": [
              "214"
            ]
          },
          "metadata": {
            "tags": []
          },
          "execution_count": 15
        }
      ]
    },
    {
      "cell_type": "code",
      "metadata": {
        "id": "3v66viAQlLkP"
      },
      "source": [
        "X = dataset.iloc[:, :-1].values\n",
        "y = dataset.iloc[:, -1].values"
      ],
      "execution_count": 16,
      "outputs": []
    },
    {
      "cell_type": "code",
      "metadata": {
        "id": "dsWW45wDHXO-"
      },
      "source": [
        "from sklearn.impute import SimpleImputer\n",
        "imputer = SimpleImputer(missing_values=np.nan, strategy='mean')\n",
        "imputer.fit(X[:, 0:78])\n",
        "X[:, 0:78] = imputer.transform(X[:, 0:78])"
      ],
      "execution_count": 17,
      "outputs": []
    },
    {
      "cell_type": "code",
      "metadata": {
        "id": "OYHkusTNiKqW"
      },
      "source": [
        "from sklearn.preprocessing import LabelEncoder\n",
        "le = LabelEncoder()\n",
        "y = le.fit_transform(y)"
      ],
      "execution_count": 18,
      "outputs": []
    },
    {
      "cell_type": "code",
      "metadata": {
        "id": "N7_qi1ChS4Qf"
      },
      "source": [
        "from sklearn.model_selection import train_test_split\n",
        "X_train, X_test, y_train, y_test = train_test_split(X, y, test_size = 0.2, random_state = 1)"
      ],
      "execution_count": 19,
      "outputs": []
    },
    {
      "cell_type": "code",
      "metadata": {
        "id": "1gzn3GhpzSby"
      },
      "source": [
        "from sklearn.preprocessing import StandardScaler\n",
        "sc = StandardScaler()\n",
        "X_train[:, 0:78] = sc.fit_transform(X_train[:, 0:78])\n",
        "X_test[:, 0:78] = sc.transform(X_test[:, 0:78])"
      ],
      "execution_count": 20,
      "outputs": []
    },
    {
      "cell_type": "code",
      "metadata": {
        "colab": {
          "base_uri": "https://localhost:8080/"
        },
        "id": "fgke_UOE6TPV",
        "outputId": "19236129-7ae3-4ea7-fe07-680620e43c4c"
      },
      "source": [
        "from mlxtend.feature_selection import SequentialFeatureSelector as sfs\n",
        "#I am going to use RandomForestRegressor algoritham as an estimator. Your can select other regression alogritham as well.\n",
        "from sklearn.ensemble import RandomForestRegressor\n",
        "#k_features=10 (It will get top 10 features best suited for prediction)\n",
        "#forward=True (Forward feature selection model)\n",
        "#verbose=2 (It will show details output as shown below.)\n",
        "#cv=5 (Kfold cross valiation: it will split the training set in 5 set and 4 will be using for training the model and 1 will using as validation)\n",
        "#n_jobs=-1 (Number of cores it will use for execution.-1 means it will use all the cores of CPU for execution.)\n",
        "#scoring='r2'(R-squared is a statistical measure of how close the data are to the fitted regression line)\n",
        "model=sfs(RandomForestRegressor(),k_features=10,forward=True,verbose=2,cv=5,n_jobs=-1,scoring='r2')\n",
        "model.fit(X_train,y_train)"
      ],
      "execution_count": 21,
      "outputs": [
        {
          "output_type": "stream",
          "text": [
            "[Parallel(n_jobs=-1)]: Using backend LokyBackend with 2 concurrent workers.\n",
            "[Parallel(n_jobs=-1)]: Done  37 tasks      | elapsed:  2.8min\n",
            "[Parallel(n_jobs=-1)]: Done  77 out of  77 | elapsed:  5.6min finished\n",
            "\n",
            "[2021-07-10 16:10:57] Features: 1/10 -- score: 0.8461328469709679[Parallel(n_jobs=-1)]: Using backend LokyBackend with 2 concurrent workers.\n",
            "[Parallel(n_jobs=-1)]: Done  37 tasks      | elapsed:  2.8min\n",
            "[Parallel(n_jobs=-1)]: Done  76 out of  76 | elapsed:  5.7min finished\n",
            "\n",
            "[2021-07-10 16:16:39] Features: 2/10 -- score: 0.9649453506928772[Parallel(n_jobs=-1)]: Using backend LokyBackend with 2 concurrent workers.\n",
            "[Parallel(n_jobs=-1)]: Done  37 tasks      | elapsed:  2.9min\n",
            "[Parallel(n_jobs=-1)]: Done  75 out of  75 | elapsed:  5.9min finished\n",
            "\n",
            "[2021-07-10 16:22:31] Features: 3/10 -- score: 0.9741915394265865[Parallel(n_jobs=-1)]: Using backend LokyBackend with 2 concurrent workers.\n",
            "[Parallel(n_jobs=-1)]: Done  37 tasks      | elapsed:  3.1min\n",
            "[Parallel(n_jobs=-1)]: Done  74 out of  74 | elapsed:  6.1min finished\n",
            "\n",
            "[2021-07-10 16:28:38] Features: 4/10 -- score: 0.9813419414306728[Parallel(n_jobs=-1)]: Using backend LokyBackend with 2 concurrent workers.\n",
            "[Parallel(n_jobs=-1)]: Done  37 tasks      | elapsed:  3.2min\n",
            "[Parallel(n_jobs=-1)]: Done  73 out of  73 | elapsed:  6.3min finished\n",
            "\n",
            "[2021-07-10 16:34:58] Features: 5/10 -- score: 0.9836447997433888[Parallel(n_jobs=-1)]: Using backend LokyBackend with 2 concurrent workers.\n",
            "[Parallel(n_jobs=-1)]: Done  37 tasks      | elapsed:  3.3min\n",
            "[Parallel(n_jobs=-1)]: Done  72 out of  72 | elapsed:  6.4min finished\n",
            "\n",
            "[2021-07-10 16:41:21] Features: 6/10 -- score: 0.9853787406311044[Parallel(n_jobs=-1)]: Using backend LokyBackend with 2 concurrent workers.\n",
            "[Parallel(n_jobs=-1)]: Done  37 tasks      | elapsed:  3.5min\n",
            "[Parallel(n_jobs=-1)]: Done  71 out of  71 | elapsed:  6.6min finished\n",
            "\n",
            "[2021-07-10 16:47:55] Features: 7/10 -- score: 0.9887114923206433[Parallel(n_jobs=-1)]: Using backend LokyBackend with 2 concurrent workers.\n",
            "[Parallel(n_jobs=-1)]: Done  37 tasks      | elapsed:  3.6min\n",
            "[Parallel(n_jobs=-1)]: Done  70 out of  70 | elapsed:  6.6min finished\n",
            "\n",
            "[2021-07-10 16:54:32] Features: 8/10 -- score: 0.9892783860566812[Parallel(n_jobs=-1)]: Using backend LokyBackend with 2 concurrent workers.\n",
            "[Parallel(n_jobs=-1)]: Done  37 tasks      | elapsed:  3.7min\n",
            "[Parallel(n_jobs=-1)]: Done  69 out of  69 | elapsed:  6.7min finished\n",
            "\n",
            "[2021-07-10 17:01:16] Features: 9/10 -- score: 0.9903338835194191[Parallel(n_jobs=-1)]: Using backend LokyBackend with 2 concurrent workers.\n",
            "[Parallel(n_jobs=-1)]: Done  37 tasks      | elapsed:  3.8min\n",
            "[Parallel(n_jobs=-1)]: Done  68 out of  68 | elapsed:  6.9min finished\n",
            "\n",
            "[2021-07-10 17:08:08] Features: 10/10 -- score: 0.9904238418852043"
          ],
          "name": "stderr"
        },
        {
          "output_type": "execute_result",
          "data": {
            "text/plain": [
              "SequentialFeatureSelector(clone_estimator=True, cv=5,\n",
              "                          estimator=RandomForestRegressor(bootstrap=True,\n",
              "                                                          ccp_alpha=0.0,\n",
              "                                                          criterion='mse',\n",
              "                                                          max_depth=None,\n",
              "                                                          max_features='auto',\n",
              "                                                          max_leaf_nodes=None,\n",
              "                                                          max_samples=None,\n",
              "                                                          min_impurity_decrease=0.0,\n",
              "                                                          min_impurity_split=None,\n",
              "                                                          min_samples_leaf=1,\n",
              "                                                          min_samples_split=2,\n",
              "                                                          min_weight_fraction_leaf=0.0,\n",
              "                                                          n_estimators=100,\n",
              "                                                          n_jobs=None,\n",
              "                                                          oob_score=False,\n",
              "                                                          random_state=None,\n",
              "                                                          verbose=0,\n",
              "                                                          warm_start=False),\n",
              "                          floating=False, forward=True, k_features=10,\n",
              "                          n_jobs=-1, pre_dispatch='2*n_jobs', scoring='r2',\n",
              "                          verbose=2)"
            ]
          },
          "metadata": {
            "tags": []
          },
          "execution_count": 21
        }
      ]
    },
    {
      "cell_type": "code",
      "metadata": {
        "colab": {
          "base_uri": "https://localhost:8080/"
        },
        "id": "zWk0_URI6Zw_",
        "outputId": "cac3528a-2e58-40f3-d2c2-826646545185"
      },
      "source": [
        "#Get the selected feature index.\n",
        "model.k_feature_idx_"
      ],
      "execution_count": 22,
      "outputs": [
        {
          "output_type": "execute_result",
          "data": {
            "text/plain": [
              "(9, 10, 34, 37, 40, 48, 53, 65, 66, 74)"
            ]
          },
          "metadata": {
            "tags": []
          },
          "execution_count": 22
        }
      ]
    },
    {
      "cell_type": "code",
      "metadata": {
        "colab": {
          "base_uri": "https://localhost:8080/"
        },
        "id": "sP-t13487H7T",
        "outputId": "443098d2-c5d9-46c1-f88c-d2ea3fcd21e7"
      },
      "source": [
        "#Get the column name for the selected feature.\n",
        "model.k_feature_names_"
      ],
      "execution_count": 23,
      "outputs": [
        {
          "output_type": "execute_result",
          "data": {
            "text/plain": [
              "('9', '10', '34', '37', '40', '48', '53', '65', '66', '74')"
            ]
          },
          "metadata": {
            "tags": []
          },
          "execution_count": 23
        }
      ]
    }
  ]
}