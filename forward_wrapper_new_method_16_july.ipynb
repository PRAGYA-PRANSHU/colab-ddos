{
  "nbformat": 4,
  "nbformat_minor": 0,
  "metadata": {
    "colab": {
      "name": "forward wrapper new method 11 july.ipynb",
      "provenance": [],
      "collapsed_sections": [],
      "authorship_tag": "ABX9TyNUuO8fyl9dXXkw5cDJIOBM",
      "include_colab_link": true
    },
    "kernelspec": {
      "name": "python3",
      "display_name": "Python 3"
    },
    "language_info": {
      "name": "python"
    },
    "accelerator": "TPU"
  },
  "cells": [
    {
      "cell_type": "markdown",
      "metadata": {
        "id": "view-in-github",
        "colab_type": "text"
      },
      "source": [
        "<a href=\"https://colab.research.google.com/github/PRAGYA-PRANSHU/colab-ddos/blob/main/forward_wrapper_new_method_16_july.ipynb\" target=\"_parent\"><img src=\"https://colab.research.google.com/assets/colab-badge.svg\" alt=\"Open In Colab\"/></a>"
      ]
    },
    {
      "cell_type": "code",
      "metadata": {
        "id": "AyAJviIVfLjF"
      },
      "source": [
        "import numpy as np # linear algebra\n",
        "import pandas as pd # data processing, CSV file I/O (e.g. pd.read_csv)\n",
        "from tqdm import tqdm\n",
        "from IPython.display import display\n",
        "import gc\n",
        "import seaborn as sns\n",
        "import matplotlib.pyplot as plt\n",
        "from sklearn.decomposition import PCA\n",
        "from sklearn.preprocessing import LabelEncoder\n",
        "from sklearn.preprocessing import OrdinalEncoder\n",
        "pd.set_option('display.max_columns', None)\n",
        "pd.set_option('display.max_rows', None)"
      ],
      "execution_count": 39,
      "outputs": []
    },
    {
      "cell_type": "code",
      "metadata": {
        "id": "mzu4mNdvflfw"
      },
      "source": [
        "dataset = pd.read_csv('/content/DrDoS_NetBIOS_new_0_0.csv')\n",
        "#Currently I will be dealling with numerical columns only.\n",
        "colType = ['int64','float64']\n",
        "#Select the columns which are either int64 or float64.\n",
        "numCols=list(dataset.select_dtypes(include=colType).columns)\n",
        "#Assigning numerical columns from df to data variable. We can use the same variable as well.\n",
        "data=dataset[numCols]"
      ],
      "execution_count": 40,
      "outputs": []
    },
    {
      "cell_type": "code",
      "metadata": {
        "colab": {
          "base_uri": "https://localhost:8080/"
        },
        "id": "Wb-fOHHqgh_C",
        "outputId": "3d20ef95-35d6-4c4d-fa86-4f5473521757"
      },
      "source": [
        "dataset.shape"
      ],
      "execution_count": 41,
      "outputs": [
        {
          "output_type": "execute_result",
          "data": {
            "text/plain": [
              "(10000, 78)"
            ]
          },
          "metadata": {
            "tags": []
          },
          "execution_count": 41
        }
      ]
    },
    {
      "cell_type": "code",
      "metadata": {
        "id": "2yEWMSsehpR5"
      },
      "source": [
        "X = dataset.iloc[:, :-1].values\n",
        "y = dataset.iloc[:, -1].values"
      ],
      "execution_count": 42,
      "outputs": []
    },
    {
      "cell_type": "code",
      "metadata": {
        "id": "sg5iIHWKhrYA"
      },
      "source": [
        "from sklearn.impute import SimpleImputer\n",
        "imputer = SimpleImputer(missing_values=np.nan, strategy='mean')\n",
        "imputer.fit(X[:, 0:78])\n",
        "X[:, 0:78] = imputer.transform(X[:, 0:78])"
      ],
      "execution_count": 43,
      "outputs": []
    },
    {
      "cell_type": "code",
      "metadata": {
        "id": "TiVTezk7hs_w"
      },
      "source": [
        "from sklearn.preprocessing import LabelEncoder\n",
        "le = LabelEncoder()\n",
        "y = le.fit_transform(y)"
      ],
      "execution_count": 44,
      "outputs": []
    },
    {
      "cell_type": "code",
      "metadata": {
        "id": "kHXjwWtchu0I"
      },
      "source": [
        "from sklearn.model_selection import train_test_split\n",
        "X_train, X_test, y_train, y_test = train_test_split(X, y, test_size = 0.2, random_state = 1)"
      ],
      "execution_count": 45,
      "outputs": []
    },
    {
      "cell_type": "code",
      "metadata": {
        "id": "JfXhOvVRhx1g"
      },
      "source": [
        "from sklearn.preprocessing import StandardScaler\n",
        "sc = StandardScaler()\n",
        "X_train[:, 0:78] = sc.fit_transform(X_train[:, 0:78])\n",
        "X_test[:, 0:78] = sc.transform(X_test[:, 0:78])"
      ],
      "execution_count": 46,
      "outputs": []
    },
    {
      "cell_type": "code",
      "metadata": {
        "colab": {
          "base_uri": "https://localhost:8080/"
        },
        "id": "rBxbyyvth1xY",
        "outputId": "5f3a3535-2e6d-4702-802b-99d0fd320ffb"
      },
      "source": [
        "X_train.shape,X_test.shape"
      ],
      "execution_count": 47,
      "outputs": [
        {
          "output_type": "execute_result",
          "data": {
            "text/plain": [
              "((8000, 77), (2000, 77))"
            ]
          },
          "metadata": {
            "tags": []
          },
          "execution_count": 47
        }
      ]
    },
    {
      "cell_type": "code",
      "metadata": {
        "colab": {
          "base_uri": "https://localhost:8080/"
        },
        "id": "uw8UZ-ioiVCB",
        "outputId": "45358ee8-ba03-4ad4-ea44-5fc262d60eed"
      },
      "source": [
        "from mlxtend.feature_selection import SequentialFeatureSelector as sfs\n",
        "#I am going to use RandomForestRegressor algoritham as an estimator. Your can select other regression alogritham as well.\n",
        "from sklearn.ensemble import RandomForestRegressor\n",
        "#k_features=10 (It will get top 10 features best suited for prediction)\n",
        "#forward=True (Forward feature selection model)\n",
        "#verbose=2 (It will show details output as shown below.)\n",
        "#cv=5 (Kfold cross valiation: it will split the training set in 5 set and 4 will be using for training the model and 1 will using as validation)\n",
        "#n_jobs=-1 (Number of cores it will use for execution.-1 means it will use all the cores of CPU for execution.)\n",
        "#scoring='r2'(R-squared is a statistical measure of how close the data are to the fitted regression line)\n",
        "model=sfs(RandomForestRegressor(),k_features=20,forward=True,verbose=2,cv=5,n_jobs=-1,scoring='r2')\n",
        "model.fit(X_train,y_train)"
      ],
      "execution_count": 48,
      "outputs": [
        {
          "output_type": "stream",
          "text": [
            "[Parallel(n_jobs=-1)]: Using backend LokyBackend with 2 concurrent workers.\n",
            "[Parallel(n_jobs=-1)]: Done  37 tasks      | elapsed:   28.5s\n",
            "[Parallel(n_jobs=-1)]: Done  77 out of  77 | elapsed:   56.7s finished\n",
            "\n",
            "[2021-07-16 15:56:06] Features: 1/20 -- score: 0.9598746081504702[Parallel(n_jobs=-1)]: Using backend LokyBackend with 2 concurrent workers.\n",
            "[Parallel(n_jobs=-1)]: Done  37 tasks      | elapsed:   26.3s\n",
            "[Parallel(n_jobs=-1)]: Done  76 out of  76 | elapsed:   52.3s finished\n",
            "\n",
            "[2021-07-16 15:56:58] Features: 2/20 -- score: 0.9619933419756288[Parallel(n_jobs=-1)]: Using backend LokyBackend with 2 concurrent workers.\n",
            "[Parallel(n_jobs=-1)]: Done  37 tasks      | elapsed:   26.2s\n",
            "[Parallel(n_jobs=-1)]: Done  75 out of  75 | elapsed:   52.1s finished\n",
            "\n",
            "[2021-07-16 15:57:50] Features: 3/20 -- score: 0.9648371442713366[Parallel(n_jobs=-1)]: Using backend LokyBackend with 2 concurrent workers.\n",
            "[Parallel(n_jobs=-1)]: Done  37 tasks      | elapsed:   26.9s\n",
            "[Parallel(n_jobs=-1)]: Done  74 out of  74 | elapsed:   51.8s finished\n",
            "\n",
            "[2021-07-16 15:58:42] Features: 4/20 -- score: 0.9648130941774499[Parallel(n_jobs=-1)]: Using backend LokyBackend with 2 concurrent workers.\n",
            "[Parallel(n_jobs=-1)]: Done  37 tasks      | elapsed:   27.2s\n",
            "[Parallel(n_jobs=-1)]: Done  73 out of  73 | elapsed:   52.0s finished\n",
            "\n",
            "[2021-07-16 15:59:34] Features: 5/20 -- score: 0.9646476806436153[Parallel(n_jobs=-1)]: Using backend LokyBackend with 2 concurrent workers.\n",
            "[Parallel(n_jobs=-1)]: Done  37 tasks      | elapsed:   27.8s\n",
            "[Parallel(n_jobs=-1)]: Done  72 out of  72 | elapsed:   52.3s finished\n",
            "\n",
            "[2021-07-16 16:00:27] Features: 6/20 -- score: 0.9640708247106795[Parallel(n_jobs=-1)]: Using backend LokyBackend with 2 concurrent workers.\n",
            "[Parallel(n_jobs=-1)]: Done  37 tasks      | elapsed:   28.4s\n",
            "[Parallel(n_jobs=-1)]: Done  71 out of  71 | elapsed:   53.0s finished\n",
            "\n",
            "[2021-07-16 16:01:20] Features: 7/20 -- score: 0.9648582069594047[Parallel(n_jobs=-1)]: Using backend LokyBackend with 2 concurrent workers.\n",
            "[Parallel(n_jobs=-1)]: Done  37 tasks      | elapsed:   28.9s\n",
            "[Parallel(n_jobs=-1)]: Done  70 out of  70 | elapsed:   52.5s finished\n",
            "\n",
            "[2021-07-16 16:02:13] Features: 8/20 -- score: 0.9641951380017442[Parallel(n_jobs=-1)]: Using backend LokyBackend with 2 concurrent workers.\n",
            "[Parallel(n_jobs=-1)]: Done  37 tasks      | elapsed:   29.1s\n",
            "[Parallel(n_jobs=-1)]: Done  69 out of  69 | elapsed:   52.5s finished\n",
            "\n",
            "[2021-07-16 16:03:05] Features: 9/20 -- score: 0.9633355803301356[Parallel(n_jobs=-1)]: Using backend LokyBackend with 2 concurrent workers.\n",
            "[Parallel(n_jobs=-1)]: Done  37 tasks      | elapsed:   29.6s\n",
            "[Parallel(n_jobs=-1)]: Done  68 out of  68 | elapsed:   52.7s finished\n",
            "\n",
            "[2021-07-16 16:03:58] Features: 10/20 -- score: 0.9628368997729433[Parallel(n_jobs=-1)]: Using backend LokyBackend with 2 concurrent workers.\n",
            "[Parallel(n_jobs=-1)]: Done  37 tasks      | elapsed:   29.7s\n",
            "[Parallel(n_jobs=-1)]: Done  67 out of  67 | elapsed:   52.3s finished\n",
            "\n",
            "[2021-07-16 16:04:50] Features: 11/20 -- score: 0.9647488684092677[Parallel(n_jobs=-1)]: Using backend LokyBackend with 2 concurrent workers.\n",
            "[Parallel(n_jobs=-1)]: Done  37 tasks      | elapsed:   31.0s\n",
            "[Parallel(n_jobs=-1)]: Done  66 out of  66 | elapsed:   54.1s finished\n",
            "\n",
            "[2021-07-16 16:05:45] Features: 12/20 -- score: 0.9637026208153612[Parallel(n_jobs=-1)]: Using backend LokyBackend with 2 concurrent workers.\n",
            "[Parallel(n_jobs=-1)]: Done  37 tasks      | elapsed:   32.6s\n",
            "[Parallel(n_jobs=-1)]: Done  65 out of  65 | elapsed:   54.8s finished\n",
            "\n",
            "[2021-07-16 16:06:40] Features: 13/20 -- score: 0.9641630376882645[Parallel(n_jobs=-1)]: Using backend LokyBackend with 2 concurrent workers.\n",
            "[Parallel(n_jobs=-1)]: Done  37 tasks      | elapsed:   31.9s\n",
            "[Parallel(n_jobs=-1)]: Done  64 out of  64 | elapsed:   53.5s finished\n",
            "\n",
            "[2021-07-16 16:07:33] Features: 14/20 -- score: 0.9653317620068981[Parallel(n_jobs=-1)]: Using backend LokyBackend with 2 concurrent workers.\n",
            "[Parallel(n_jobs=-1)]: Done  37 tasks      | elapsed:   32.0s\n",
            "[Parallel(n_jobs=-1)]: Done  63 out of  63 | elapsed:   52.6s finished\n",
            "\n",
            "[2021-07-16 16:08:26] Features: 15/20 -- score: 0.96403069931883[Parallel(n_jobs=-1)]: Using backend LokyBackend with 2 concurrent workers.\n",
            "[Parallel(n_jobs=-1)]: Done  37 tasks      | elapsed:   31.5s\n",
            "[Parallel(n_jobs=-1)]: Done  62 out of  62 | elapsed:   51.6s finished\n",
            "\n",
            "[2021-07-16 16:09:18] Features: 16/20 -- score: 0.9642937280505339[Parallel(n_jobs=-1)]: Using backend LokyBackend with 2 concurrent workers.\n",
            "[Parallel(n_jobs=-1)]: Done  37 tasks      | elapsed:   33.1s\n",
            "[Parallel(n_jobs=-1)]: Done  61 out of  61 | elapsed:   53.4s finished\n",
            "\n",
            "[2021-07-16 16:10:11] Features: 17/20 -- score: 0.9640968119357956[Parallel(n_jobs=-1)]: Using backend LokyBackend with 2 concurrent workers.\n",
            "[Parallel(n_jobs=-1)]: Done  37 tasks      | elapsed:   34.1s\n",
            "[Parallel(n_jobs=-1)]: Done  60 out of  60 | elapsed:   54.5s finished\n",
            "\n",
            "[2021-07-16 16:11:06] Features: 18/20 -- score: 0.9644841288173411[Parallel(n_jobs=-1)]: Using backend LokyBackend with 2 concurrent workers.\n",
            "[Parallel(n_jobs=-1)]: Done  37 tasks      | elapsed:   33.4s\n",
            "[Parallel(n_jobs=-1)]: Done  59 out of  59 | elapsed:   52.3s finished\n",
            "\n",
            "[2021-07-16 16:11:58] Features: 19/20 -- score: 0.9639855362544292[Parallel(n_jobs=-1)]: Using backend LokyBackend with 2 concurrent workers.\n",
            "[Parallel(n_jobs=-1)]: Done  37 tasks      | elapsed:   35.3s\n",
            "[Parallel(n_jobs=-1)]: Done  58 out of  58 | elapsed:   54.1s finished\n",
            "\n",
            "[2021-07-16 16:12:52] Features: 20/20 -- score: 0.9633184421869722"
          ],
          "name": "stderr"
        },
        {
          "output_type": "execute_result",
          "data": {
            "text/plain": [
              "SequentialFeatureSelector(clone_estimator=True, cv=5,\n",
              "                          estimator=RandomForestRegressor(bootstrap=True,\n",
              "                                                          ccp_alpha=0.0,\n",
              "                                                          criterion='mse',\n",
              "                                                          max_depth=None,\n",
              "                                                          max_features='auto',\n",
              "                                                          max_leaf_nodes=None,\n",
              "                                                          max_samples=None,\n",
              "                                                          min_impurity_decrease=0.0,\n",
              "                                                          min_impurity_split=None,\n",
              "                                                          min_samples_leaf=1,\n",
              "                                                          min_samples_split=2,\n",
              "                                                          min_weight_fraction_leaf=0.0,\n",
              "                                                          n_estimators=100,\n",
              "                                                          n_jobs=None,\n",
              "                                                          oob_score=False,\n",
              "                                                          random_state=None,\n",
              "                                                          verbose=0,\n",
              "                                                          warm_start=False),\n",
              "                          floating=False, forward=True, k_features=20,\n",
              "                          n_jobs=-1, pre_dispatch='2*n_jobs', scoring='r2',\n",
              "                          verbose=2)"
            ]
          },
          "metadata": {
            "tags": []
          },
          "execution_count": 48
        }
      ]
    },
    {
      "cell_type": "code",
      "metadata": {
        "colab": {
          "base_uri": "https://localhost:8080/"
        },
        "id": "5XUS0UyIiYsU",
        "outputId": "7d63a94b-f389-44dc-fd28-7a8711cfc779"
      },
      "source": [
        "\n",
        "\n",
        "#Get the selected feature index.\n",
        "model.k_feature_idx_\n",
        "\n"
      ],
      "execution_count": 49,
      "outputs": [
        {
          "output_type": "execute_result",
          "data": {
            "text/plain": [
              "(2, 8, 12, 15, 22, 26, 30, 32, 35, 43, 45, 57, 60, 61, 65, 68, 69, 70, 71, 72)"
            ]
          },
          "metadata": {
            "tags": []
          },
          "execution_count": 49
        }
      ]
    },
    {
      "cell_type": "code",
      "metadata": {
        "colab": {
          "base_uri": "https://localhost:8080/"
        },
        "id": "-I7xSJhwib2E",
        "outputId": "7bb72ec1-4abc-46b9-b982-88165b3b3524"
      },
      "source": [
        "#Get the column name for the selected feature.\n",
        "model.k_feature_names_"
      ],
      "execution_count": 50,
      "outputs": [
        {
          "output_type": "execute_result",
          "data": {
            "text/plain": [
              "('2',\n",
              " '8',\n",
              " '12',\n",
              " '15',\n",
              " '22',\n",
              " '26',\n",
              " '30',\n",
              " '32',\n",
              " '35',\n",
              " '43',\n",
              " '45',\n",
              " '57',\n",
              " '60',\n",
              " '61',\n",
              " '65',\n",
              " '68',\n",
              " '69',\n",
              " '70',\n",
              " '71',\n",
              " '72')"
            ]
          },
          "metadata": {
            "tags": []
          },
          "execution_count": 50
        }
      ]
    }
  ]
}